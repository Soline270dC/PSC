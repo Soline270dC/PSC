{
 "cells": [
  {
   "cell_type": "code",
   "execution_count": 351,
   "metadata": {},
   "outputs": [],
   "source": [
    "import os\n",
    "import random\n",
    "import torch\n",
    "import torch.nn as nn\n",
    "import torch.nn.parallel\n",
    "import torch.optim as optim\n",
    "import torch.utils.data\n",
    "import torchvision.utils as vutils\n",
    "import numpy as np\n",
    "import matplotlib.pyplot as plt"
   ]
  },
  {
   "cell_type": "code",
   "execution_count": 352,
   "metadata": {},
   "outputs": [],
   "source": [
    "# # Set random seed for reproducibility\n",
    "# manualSeed = 999\n",
    "# # manualSeed = random.randint(1, 10000) # use if you want new results\n",
    "# print(\"Random Seed: \", manualSeed)\n",
    "# random.seed(manualSeed)\n",
    "# torch.manual_seed(manualSeed)\n",
    "# torch.use_deterministic_algorithms(True) # Needed for reproducible results"
   ]
  },
  {
   "cell_type": "code",
   "execution_count": 353,
   "metadata": {},
   "outputs": [],
   "source": [
    "# Root directory for dataset\n",
    "dataroot = \"data\"\n",
    "\n",
    "# Batch size during training\n",
    "batch_size = 50\n",
    "\n",
    "# Size of z latent vector (i.e. size of generator input)\n",
    "nz = 50\n",
    "\n",
    "# Number of training epochs\n",
    "num_epochs = 20\n",
    "\n",
    "# Learning rate for optimizers\n",
    "lr = 0.0002\n",
    "\n",
    "# Beta1 hyperparameter for Adam optimizers\n",
    "beta1 = 0.5\n",
    "\n",
    "# Number of GPUs available. Use 0 for CPU mode.\n",
    "ngpu = 0"
   ]
  },
  {
   "cell_type": "code",
   "execution_count": 354,
   "metadata": {},
   "outputs": [],
   "source": [
    "class Dataset():\n",
    "    def __init__(self, root = dataroot):\n",
    "        self.root = root\n",
    "        self.dataset = self.build_dataset()\n",
    "        self.length = self.dataset.shape[1]\n",
    "\n",
    "    def __len__(self):\n",
    "        return self.length\n",
    "\n",
    "    def __getitem__(self, idx):\n",
    "        step = self.dataset[:, idx]\n",
    "        target = 0  # only one class\n",
    "        return step\n",
    "\n",
    "    def build_dataset(self):\n",
    "        dataset = np.load(os.path.join(self.root, \"round1.npy\")).T\n",
    "        dataset = torch.from_numpy(dataset).float()\n",
    "        dataset = torch.unsqueeze(dataset, -1)\n",
    "        return dataset"
   ]
  },
  {
   "cell_type": "code",
   "execution_count": 355,
   "metadata": {},
   "outputs": [],
   "source": [
    "dataset = Dataset(dataroot)"
   ]
  },
  {
   "cell_type": "code",
   "execution_count": 356,
   "metadata": {},
   "outputs": [],
   "source": [
    "# Create the dataloader\n",
    "dataloader = torch.utils.data.DataLoader(dataset, batch_size=batch_size,\n",
    "                                         shuffle=False)\n",
    "\n",
    "# Decide which device we want to run on\n",
    "device = torch.device(\"cuda:0\" if (torch.cuda.is_available() and ngpu > 0) else \"cpu\")"
   ]
  },
  {
   "cell_type": "code",
   "execution_count": 357,
   "metadata": {},
   "outputs": [
    {
     "data": {
      "text/plain": [
       "tensor([[ 5.5400],\n",
       "        [ 6.6100],\n",
       "        [10.3900],\n",
       "        [ 5.7700]])"
      ]
     },
     "execution_count": 357,
     "metadata": {},
     "output_type": "execute_result"
    }
   ],
   "source": [
    "next(iter(iter(dataloader)))[0]"
   ]
  },
  {
   "cell_type": "code",
   "execution_count": 358,
   "metadata": {},
   "outputs": [],
   "source": [
    "# custom weights initialization called on ``netG`` and ``netD``\n",
    "def weights_init(m):\n",
    "    classname = m.__class__.__name__\n",
    "    if classname.find('Linear') != -1:\n",
    "        n = m.in_features\n",
    "        y = 1.0/np.sqrt(n)\n",
    "        # nn.init.normal_(m.weight.data, 0.0, y)\n",
    "        # nn.init.uniform_(m.weight.data, -y, y)\n",
    "        nn.init.normal_(m.weight.data, 0.0, 1e-2)"
   ]
  },
  {
   "cell_type": "code",
   "execution_count": 359,
   "metadata": {},
   "outputs": [],
   "source": [
    "class Generator(nn.Module):\n",
    "    def __init__(self, ngpu):\n",
    "        super(Generator, self).__init__()\n",
    "        self.ngpu = ngpu\n",
    "        self.main = nn.Sequential(\n",
    "            nn.Linear(nz, 40, bias = False),\n",
    "            nn.ReLU(True),\n",
    "            nn.Linear(40, 30, bias = False),\n",
    "            nn.ReLU(True),\n",
    "            nn.Linear(30, 30, bias = False),\n",
    "            nn.ReLU(True),\n",
    "            nn.Linear(30, 1, bias = False),\n",
    "            nn.ReLU(True)\n",
    "        )\n",
    "\n",
    "    def forward(self, input):\n",
    "        return self.main(input)"
   ]
  },
  {
   "cell_type": "code",
   "execution_count": 360,
   "metadata": {},
   "outputs": [
    {
     "name": "stdout",
     "output_type": "stream",
     "text": [
      "Generator(\n",
      "  (main): Sequential(\n",
      "    (0): Linear(in_features=50, out_features=40, bias=False)\n",
      "    (1): ReLU(inplace=True)\n",
      "    (2): Linear(in_features=40, out_features=30, bias=False)\n",
      "    (3): ReLU(inplace=True)\n",
      "    (4): Linear(in_features=30, out_features=30, bias=False)\n",
      "    (5): ReLU(inplace=True)\n",
      "    (6): Linear(in_features=30, out_features=1, bias=False)\n",
      "    (7): ReLU(inplace=True)\n",
      "  )\n",
      ")\n"
     ]
    }
   ],
   "source": [
    "# Create the generator\n",
    "netG = Generator(ngpu).to(device)\n",
    "\n",
    "# Handle multi-GPU if desired\n",
    "if (device.type == 'cuda') and (ngpu > 1):\n",
    "    netG = nn.DataParallel(netG, list(range(ngpu)))\n",
    "\n",
    "# Apply the ``weights_init`` function to randomly initialize all weights\n",
    "#  to ``mean=0``, ``stdev=0.02``.\n",
    "netG.apply(weights_init)\n",
    "\n",
    "# Print the model\n",
    "print(netG)"
   ]
  },
  {
   "cell_type": "code",
   "execution_count": 361,
   "metadata": {},
   "outputs": [],
   "source": [
    "class Discriminator(nn.Module):\n",
    "    def __init__(self, ngpu):\n",
    "        super(Discriminator, self).__init__()\n",
    "        self.ngpu = ngpu\n",
    "        self.main = nn.Sequential(\n",
    "            nn.Linear(1, 50, bias = False),\n",
    "            nn.ReLU(True),\n",
    "            nn.Linear(50, 30, bias = False),\n",
    "            nn.ReLU(True),\n",
    "            nn.Linear(30, 50, bias = False),\n",
    "            nn.ReLU(True),\n",
    "            nn.Linear(50, 50, bias = False),\n",
    "            nn.ReLU(True),\n",
    "            nn.Linear(50, 50, bias = False),\n",
    "            nn.ReLU(True),\n",
    "            nn.Linear(50, 1, bias = False),\n",
    "            nn.Sigmoid()\n",
    "        )\n",
    "\n",
    "    def forward(self, input):\n",
    "        return self.main(input)"
   ]
  },
  {
   "cell_type": "code",
   "execution_count": 362,
   "metadata": {},
   "outputs": [
    {
     "name": "stdout",
     "output_type": "stream",
     "text": [
      "Discriminator(\n",
      "  (main): Sequential(\n",
      "    (0): Linear(in_features=1, out_features=50, bias=False)\n",
      "    (1): ReLU(inplace=True)\n",
      "    (2): Linear(in_features=50, out_features=30, bias=False)\n",
      "    (3): ReLU(inplace=True)\n",
      "    (4): Linear(in_features=30, out_features=50, bias=False)\n",
      "    (5): ReLU(inplace=True)\n",
      "    (6): Linear(in_features=50, out_features=50, bias=False)\n",
      "    (7): ReLU(inplace=True)\n",
      "    (8): Linear(in_features=50, out_features=50, bias=False)\n",
      "    (9): ReLU(inplace=True)\n",
      "    (10): Linear(in_features=50, out_features=1, bias=False)\n",
      "    (11): Sigmoid()\n",
      "  )\n",
      ")\n"
     ]
    }
   ],
   "source": [
    "# Create the Discriminator\n",
    "netD = Discriminator(ngpu).to(device)\n",
    "\n",
    "# Handle multi-GPU if desired\n",
    "if (device.type == 'cuda') and (ngpu > 1):\n",
    "    netD = nn.DataParallel(netD, list(range(ngpu)))\n",
    "\n",
    "# Apply the ``weights_init`` function to randomly initialize all weights\n",
    "# like this: ``to mean=0, stdev=0.2``.\n",
    "netD.apply(weights_init)\n",
    "\n",
    "# Print the model\n",
    "print(netD)"
   ]
  },
  {
   "cell_type": "code",
   "execution_count": 363,
   "metadata": {},
   "outputs": [],
   "source": [
    "# Initialize the ``BCELoss`` function\n",
    "criterion = nn.BCELoss()\n",
    "\n",
    "# Create batch of latent vectors that we will use to visualize\n",
    "#  the progression of the generator\n",
    "fixed_noise = torch.randn(1, nz, device=device)\n",
    "\n",
    "# Establish convention for real and fake labels during training\n",
    "real_label = 1.\n",
    "fake_label = 0.\n",
    "\n",
    "# Setup Adam optimizers for both G and D\n",
    "optimizerD = optim.Adam(netD.parameters(), lr=lr, betas=(beta1, 0.999))\n",
    "optimizerG = optim.Adam(netG.parameters(), lr=lr, betas=(beta1, 0.999))"
   ]
  },
  {
   "cell_type": "code",
   "execution_count": 364,
   "metadata": {},
   "outputs": [
    {
     "name": "stdout",
     "output_type": "stream",
     "text": [
      "Starting Training Loop...\n",
      "[0/20][0/23]\tLoss_D: 1.3863\tLoss_G: 0.6931\tD(x): 0.5000\tD(G(z)): 0.5000 / 0.5000\n",
      "[1/20][0/23]\tLoss_D: 1.3863\tLoss_G: 0.6931\tD(x): 0.5000\tD(G(z)): 0.5000 / 0.5000\n",
      "[2/20][0/23]\tLoss_D: 1.3863\tLoss_G: 0.6931\tD(x): 0.5000\tD(G(z)): 0.5000 / 0.5000\n",
      "[3/20][0/23]\tLoss_D: 1.3863\tLoss_G: 0.6931\tD(x): 0.5000\tD(G(z)): 0.5000 / 0.5000\n",
      "[4/20][0/23]\tLoss_D: 1.3862\tLoss_G: 0.6931\tD(x): 0.5000\tD(G(z)): 0.5000 / 0.5000\n",
      "[5/20][0/23]\tLoss_D: 1.3860\tLoss_G: 0.6931\tD(x): 0.5001\tD(G(z)): 0.5000 / 0.5000\n",
      "[6/20][0/23]\tLoss_D: 1.3855\tLoss_G: 0.6931\tD(x): 0.5004\tD(G(z)): 0.5000 / 0.5000\n",
      "[7/20][0/23]\tLoss_D: 1.3842\tLoss_G: 0.6931\tD(x): 0.5011\tD(G(z)): 0.5000 / 0.5000\n",
      "[8/20][0/23]\tLoss_D: 1.3813\tLoss_G: 0.6931\tD(x): 0.5025\tD(G(z)): 0.5000 / 0.5000\n",
      "[9/20][0/23]\tLoss_D: 1.3753\tLoss_G: 0.6931\tD(x): 0.5055\tD(G(z)): 0.5000 / 0.5000\n",
      "[10/20][0/23]\tLoss_D: 1.3639\tLoss_G: 0.6931\tD(x): 0.5113\tD(G(z)): 0.5000 / 0.5000\n",
      "[11/20][0/23]\tLoss_D: 1.3430\tLoss_G: 0.6931\tD(x): 0.5222\tD(G(z)): 0.5000 / 0.5000\n",
      "[12/20][0/23]\tLoss_D: 1.3068\tLoss_G: 0.6931\tD(x): 0.5415\tD(G(z)): 0.5000 / 0.5000\n",
      "[13/20][0/23]\tLoss_D: 1.2480\tLoss_G: 0.6931\tD(x): 0.5745\tD(G(z)): 0.5000 / 0.5000\n",
      "[14/20][0/23]\tLoss_D: 1.1594\tLoss_G: 0.6931\tD(x): 0.6282\tD(G(z)): 0.5000 / 0.5000\n",
      "[15/20][0/23]\tLoss_D: 1.0401\tLoss_G: 0.6929\tD(x): 0.7086\tD(G(z)): 0.5001 / 0.5001\n",
      "[16/20][0/23]\tLoss_D: 0.9057\tLoss_G: 0.6921\tD(x): 0.8111\tD(G(z)): 0.5005 / 0.5005\n",
      "[17/20][0/23]\tLoss_D: 0.7921\tLoss_G: 0.6903\tD(x): 0.9092\tD(G(z)): 0.5014 / 0.5014\n",
      "[18/20][0/23]\tLoss_D: 0.7300\tLoss_G: 0.6862\tD(x): 0.9707\tD(G(z)): 0.5034 / 0.5035\n",
      "[19/20][0/23]\tLoss_D: 0.7142\tLoss_G: 0.6785\tD(x): 0.9937\tD(G(z)): 0.5073 / 0.5074\n"
     ]
    }
   ],
   "source": [
    "# Training Loop\n",
    "\n",
    "# Lists to keep track of progress\n",
    "img_list = []\n",
    "G_losses = []\n",
    "D_losses = []\n",
    "iters = 0\n",
    "\n",
    "print(\"Starting Training Loop...\")\n",
    "# For each epoch\n",
    "for epoch in range(num_epochs):\n",
    "    # For each batch in the dataloader\n",
    "    for i, data in enumerate(dataloader, 0):\n",
    "        \n",
    "        ############################\n",
    "        # (1) Update D network: maximize log(D(x)) + log(1 - D(G(z)))\n",
    "        ###########################\n",
    "        ## Train with all-real batch\n",
    "        netD.zero_grad()\n",
    "        # Format batch\n",
    "        real_cpu = data[0].to(device)\n",
    "        b_size = real_cpu.size(0)\n",
    "        label = torch.full((b_size,), real_label, dtype=torch.float, device=device)\n",
    "        # Forward pass real batch through D\n",
    "        output = netD(real_cpu).view(-1)\n",
    "        # Calculate loss on all-real batch\n",
    "        errD_real = criterion(output, label)\n",
    "        # Calculate gradients for D in backward pass\n",
    "        errD_real.backward()\n",
    "        D_x = output.mean().item()\n",
    "\n",
    "        ## Train with all-fake batch\n",
    "        # Generate batch of latent vectors\n",
    "        noise = torch.randn(b_size, nz, device=device)\n",
    "        # Generate fake image batch with G\n",
    "        fake = netG(noise)\n",
    "        label.fill_(fake_label)\n",
    "        # Classify all fake batch with D\n",
    "        output = netD(fake.detach()).view(-1)\n",
    "        # Calculate D's loss on the all-fake batch\n",
    "        errD_fake = criterion(output, label)\n",
    "        # Calculate the gradients for this batch, accumulated (summed) with previous gradients\n",
    "        errD_fake.backward()\n",
    "        D_G_z1 = output.mean().item()\n",
    "        # Compute error of D as sum over the fake and the real batches\n",
    "        errD = errD_real + errD_fake\n",
    "        # Update D\n",
    "        optimizerD.step()\n",
    "\n",
    "        ############################\n",
    "        # (2) Update G network: maximize log(D(G(z)))\n",
    "        ###########################\n",
    "        netG.zero_grad()\n",
    "        label.fill_(real_label)  # fake labels are real for generator cost\n",
    "        # Since we just updated D, perform another forward pass of all-fake batch through D\n",
    "        output = netD(fake).view(-1)\n",
    "        # Calculate G's loss based on this output\n",
    "        errG = criterion(output, label)\n",
    "        # Calculate gradients for G\n",
    "        errG.backward()\n",
    "        D_G_z2 = output.mean().item()\n",
    "        # Update G\n",
    "        optimizerG.step()\n",
    "\n",
    "        # Output training stats\n",
    "        if i % 50 == 0:\n",
    "            print('[%d/%d][%d/%d]\\tLoss_D: %.4f\\tLoss_G: %.4f\\tD(x): %.4f\\tD(G(z)): %.4f / %.4f'\n",
    "                  % (epoch, num_epochs, i, len(dataloader),\n",
    "                     errD.item(), errG.item(), D_x, D_G_z1, D_G_z2))\n",
    "\n",
    "        # Save Losses for plotting later\n",
    "        G_losses.append(errG.item())\n",
    "        D_losses.append(errD.item())\n",
    "\n",
    "        # Check how the generator is doing by saving G's output on fixed_noise\n",
    "        if (iters % 500 == 0) or ((epoch == num_epochs-1) and (i == len(dataloader)-1)):\n",
    "            with torch.no_grad():\n",
    "                fake = netG(fixed_noise).detach().cpu()\n",
    "            img_list.append(vutils.make_grid(fake, padding=2, normalize=True))\n",
    "\n",
    "        iters += 1"
   ]
  },
  {
   "cell_type": "code",
   "execution_count": 365,
   "metadata": {},
   "outputs": [
    {
     "data": {
      "text/plain": [
       "[<matplotlib.lines.Line2D at 0x13a7e4ea520>]"
      ]
     },
     "execution_count": 365,
     "metadata": {},
     "output_type": "execute_result"
    },
    {
     "data": {
      "image/png": "[encoded data removed]",
      "text/plain": [
       "<Figure size 640x480 with 1 Axes>"
      ]
     },
     "metadata": {},
     "output_type": "display_data"
    }
   ],
   "source": [
    "plt.plot(G_losses)\n",
    "plt.plot(D_losses)"
   ]
  },
  {
   "cell_type": "markdown",
   "metadata": {},
   "source": [
    "## Génération de données"
   ]
  },
  {
   "cell_type": "code",
   "execution_count": 366,
   "metadata": {},
   "outputs": [],
   "source": [
    "from DWasserstein4D import dWasserstein4D"
   ]
  },
  {
   "cell_type": "code",
   "execution_count": 367,
   "metadata": {},
   "outputs": [],
   "source": [
    "data = np.load(\"data/round1.npy\")\n",
    "N = data.shape[0]"
   ]
  },
  {
   "cell_type": "code",
   "execution_count": 368,
   "metadata": {},
   "outputs": [],
   "source": [
    "genData = np.empty((N, 4))\n",
    "for i in range(N):\n",
    "    noise = torch.randn(b_size, nz, device=device)\n",
    "    fake = netG(noise)\n",
    "    genData[i,:] = fake.detach().numpy().T[0]"
   ]
  },
  {
   "cell_type": "code",
   "execution_count": 369,
   "metadata": {},
   "outputs": [
    {
     "data": {
      "text/plain": [
       "5.511292001694776"
      ]
     },
     "execution_count": 369,
     "metadata": {},
     "output_type": "execute_result"
    }
   ],
   "source": [
    "dWasserstein4D(data, genData, niter = int(1e3))"
   ]
  },
  {
   "cell_type": "code",
   "execution_count": 370,
   "metadata": {},
   "outputs": [
    {
     "data": {
      "text/plain": [
       "<matplotlib.legend.Legend at 0x13a7e5453d0>"
      ]
     },
     "execution_count": 370,
     "metadata": {},
     "output_type": "execute_result"
    },
    {
     "data": {
      "image/png": "[encoded data removed]",
      "text/plain": [
       "<Figure size 640x480 with 1 Axes>"
      ]
     },
     "metadata": {},
     "output_type": "display_data"
    }
   ],
   "source": [
    "for i in range(4):\n",
    "    plt.plot(np.concatenate((data[:,i], genData[:,i])), alpha = 0.7)\n",
    "    # plt.plot(genData[:,i], alpha = 0.5)\n",
    "plt.axvline(x=1144, color = \"red\", label = \"changement d'ensemble de données\")\n",
    "plt.legend()"
   ]
  },
  {
   "cell_type": "code",
   "execution_count": 371,
   "metadata": {},
   "outputs": [],
   "source": [
    "# np.save(\"generated_data/genDataSoline\", genData)"
   ]
  }
 ],
 "metadata": {
  "kernelspec": {
   "display_name": "base",
   "language": "python",
   "name": "python3"
  },
  "language_info": {
   "codemirror_mode": {
    "name": "ipython",
    "version": 3
   },
   "file_extension": ".py",
   "mimetype": "text/x-python",
   "name": "python",
   "nbconvert_exporter": "python",
   "pygments_lexer": "ipython3",
   "version": "3.9.19"
  }
 },
 "nbformat": 4,
 "nbformat_minor": 2
}
