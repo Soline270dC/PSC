{
 "cells": [
  {
   "cell_type": "code",
   "execution_count": 37,
   "metadata": {},
   "outputs": [],
   "source": [
    "import os\n",
    "import random\n",
    "import torch\n",
    "import torch.nn as nn\n",
    "import torch.nn.parallel\n",
    "import torch.optim as optim\n",
    "import torch.utils.data\n",
    "import torchvision.utils as vutils\n",
    "import numpy as np\n",
    "import matplotlib.pyplot as plt"
   ]
  },
  {
   "cell_type": "code",
   "execution_count": 38,
   "metadata": {},
   "outputs": [],
   "source": [
    "# # Set random seed for reproducibility\n",
    "# manualSeed = 999\n",
    "# # manualSeed = random.randint(1, 10000) # use if you want new results\n",
    "# print(\"Random Seed: \", manualSeed)\n",
    "# random.seed(manualSeed)\n",
    "# torch.manual_seed(manualSeed)\n",
    "# torch.use_deterministic_algorithms(True) # Needed for reproducible results"
   ]
  },
  {
   "cell_type": "code",
   "execution_count": 39,
   "metadata": {},
   "outputs": [],
   "source": [
    "dataroot = \"data\"\n",
    "\n",
    "batch_size = 50\n",
    "\n",
    "nz = 40\n",
    "\n",
    "num_epochs = 20\n",
    "\n",
    "lr = 0.0002\n",
    "\n",
    "beta1 = 0.5\n",
    "\n",
    "# Number of GPUs available. Use 0 for CPU mode.\n",
    "ngpu = 0"
   ]
  },
  {
   "cell_type": "code",
   "execution_count": 40,
   "metadata": {},
   "outputs": [],
   "source": [
    "class Dataset():\n",
    "    def __init__(self, root = dataroot):\n",
    "        self.root = root\n",
    "        self.dataset = self.build_dataset()\n",
    "        self.length = self.dataset.shape[1]\n",
    "\n",
    "    def __len__(self):\n",
    "        return self.length\n",
    "\n",
    "    def __getitem__(self, idx):\n",
    "        step = self.dataset[:, idx]\n",
    "        target = 0  # only one class\n",
    "        return step\n",
    "\n",
    "    def build_dataset(self):\n",
    "        dataset = np.load(os.path.join(self.root, \"round1.npy\")).T\n",
    "        dataset = torch.from_numpy(dataset).float()\n",
    "        dataset = torch.unsqueeze(dataset, -1)\n",
    "        return dataset"
   ]
  },
  {
   "cell_type": "code",
   "execution_count": 41,
   "metadata": {},
   "outputs": [],
   "source": [
    "dataset = Dataset(dataroot)"
   ]
  },
  {
   "cell_type": "code",
   "execution_count": 42,
   "metadata": {},
   "outputs": [],
   "source": [
    "# Create the dataloader\n",
    "dataloader = torch.utils.data.DataLoader(dataset, batch_size=batch_size,\n",
    "                                         shuffle=False)\n",
    "\n",
    "# Decide which device we want to run on\n",
    "device = torch.device(\"cuda:0\" if (torch.cuda.is_available() and ngpu > 0) else \"cpu\")"
   ]
  },
  {
   "cell_type": "code",
   "execution_count": 43,
   "metadata": {},
   "outputs": [
    {
     "data": {
      "text/plain": [
       "tensor([[ 5.5400],\n",
       "        [ 6.6100],\n",
       "        [10.3900],\n",
       "        [ 5.7700]])"
      ]
     },
     "execution_count": 43,
     "metadata": {},
     "output_type": "execute_result"
    }
   ],
   "source": [
    "next(iter(iter(dataloader)))[0]"
   ]
  },
  {
   "cell_type": "code",
   "execution_count": 44,
   "metadata": {},
   "outputs": [],
   "source": [
    "# custom weights initialization called on ``netG`` and ``netD``\n",
    "def weights_init(m):\n",
    "    classname = m.__class__.__name__\n",
    "    if classname.find('Linear') != -1:\n",
    "        n = m.in_features\n",
    "        y = 1.0/np.sqrt(n)\n",
    "        # nn.init.normal_(m.weight.data, 0.0, y)\n",
    "        # nn.init.uniform_(m.weight.data, -y, y)\n",
    "        nn.init.normal_(m.weight.data, 0.0, 1e-2)"
   ]
  },
  {
   "cell_type": "code",
   "execution_count": 45,
   "metadata": {},
   "outputs": [],
   "source": [
    "class Generator(nn.Module):\n",
    "    def __init__(self, ngpu):\n",
    "        super(Generator, self).__init__()\n",
    "        self.ngpu = ngpu\n",
    "        self.main = nn.Sequential(\n",
    "            nn.Linear(nz, 28, bias = False),\n",
    "            # nn.Sigmoid(),\n",
    "            nn.ReLU(True),\n",
    "            nn.Linear(28, 1, bias = False),\n",
    "            nn.ReLU(True)\n",
    "        )\n",
    "\n",
    "    def forward(self, input):\n",
    "        return self.main(input)"
   ]
  },
  {
   "cell_type": "code",
   "execution_count": 46,
   "metadata": {},
   "outputs": [
    {
     "name": "stdout",
     "output_type": "stream",
     "text": [
      "Generator(\n",
      "  (main): Sequential(\n",
      "    (0): Linear(in_features=40, out_features=28, bias=False)\n",
      "    (1): ReLU(inplace=True)\n",
      "    (2): Linear(in_features=28, out_features=1, bias=False)\n",
      "    (3): ReLU(inplace=True)\n",
      "  )\n",
      ")\n"
     ]
    }
   ],
   "source": [
    "# Create the generator\n",
    "netG = Generator(ngpu).to(device)\n",
    "\n",
    "if (device.type == 'cuda') and (ngpu > 1):\n",
    "    netG = nn.DataParallel(netG, list(range(ngpu)))\n",
    "netG.apply(weights_init)\n",
    "\n",
    "# Print the model\n",
    "print(netG)"
   ]
  },
  {
   "cell_type": "code",
   "execution_count": 47,
   "metadata": {},
   "outputs": [],
   "source": [
    "class Discriminator(nn.Module):\n",
    "    def __init__(self, ngpu):\n",
    "        super(Discriminator, self).__init__()\n",
    "        self.ngpu = ngpu\n",
    "        self.main = nn.Sequential(\n",
    "            nn.Linear(1, 45, bias = False),\n",
    "            nn.ReLU(True),\n",
    "            nn.Linear(45, 49, bias = False),\n",
    "            nn.ReLU(True),\n",
    "            nn.Linear(49, 43, bias = False),\n",
    "            nn.ReLU(True),\n",
    "            nn.Linear(43, 19, bias = False),\n",
    "            nn.ReLU(True),\n",
    "            nn.Linear(19, 36, bias = False),\n",
    "            nn.ReLU(True),\n",
    "            nn.Linear(36, 36, bias = False),\n",
    "            nn.ReLU(True),\n",
    "            nn.Linear(36, 10, bias = False),\n",
    "            nn.ReLU(True),\n",
    "            nn.Linear(10, 10, bias = False),\n",
    "            nn.ReLU(True),\n",
    "            nn.Linear(10, 13, bias = False),\n",
    "            nn.ReLU(True),\n",
    "            nn.Linear(13, 21, bias = False),\n",
    "            nn.ReLU(True),\n",
    "            nn.Linear(21, 1, bias = False),\n",
    "            nn.Sigmoid()\n",
    "        )\n",
    "\n",
    "    def forward(self, input):\n",
    "        return self.main(input)"
   ]
  },
  {
   "cell_type": "code",
   "execution_count": 48,
   "metadata": {},
   "outputs": [
    {
     "name": "stdout",
     "output_type": "stream",
     "text": [
      "Discriminator(\n",
      "  (main): Sequential(\n",
      "    (0): Linear(in_features=1, out_features=45, bias=False)\n",
      "    (1): ReLU(inplace=True)\n",
      "    (2): Linear(in_features=45, out_features=49, bias=False)\n",
      "    (3): ReLU(inplace=True)\n",
      "    (4): Linear(in_features=49, out_features=43, bias=False)\n",
      "    (5): ReLU(inplace=True)\n",
      "    (6): Linear(in_features=43, out_features=19, bias=False)\n",
      "    (7): ReLU(inplace=True)\n",
      "    (8): Linear(in_features=19, out_features=36, bias=False)\n",
      "    (9): ReLU(inplace=True)\n",
      "    (10): Linear(in_features=36, out_features=36, bias=False)\n",
      "    (11): ReLU(inplace=True)\n",
      "    (12): Linear(in_features=36, out_features=10, bias=False)\n",
      "    (13): ReLU(inplace=True)\n",
      "    (14): Linear(in_features=10, out_features=10, bias=False)\n",
      "    (15): ReLU(inplace=True)\n",
      "    (16): Linear(in_features=10, out_features=13, bias=False)\n",
      "    (17): ReLU(inplace=True)\n",
      "    (18): Linear(in_features=13, out_features=21, bias=False)\n",
      "    (19): ReLU(inplace=True)\n",
      "    (20): Linear(in_features=21, out_features=1, bias=False)\n",
      "    (21): Sigmoid()\n",
      "  )\n",
      ")\n"
     ]
    }
   ],
   "source": [
    "# Create the Discriminator\n",
    "netD = Discriminator(ngpu).to(device)\n",
    "\n",
    "if (device.type == 'cuda') and (ngpu > 1):\n",
    "    netD = nn.DataParallel(netD, list(range(ngpu)))\n",
    "\n",
    "netD.apply(weights_init)\n",
    "\n",
    "# Print the model\n",
    "print(netD)"
   ]
  },
  {
   "cell_type": "code",
   "execution_count": 49,
   "metadata": {},
   "outputs": [],
   "source": [
    "# Initialize the ``BCELoss`` function\n",
    "criterion = nn.BCELoss()\n",
    "\n",
    "# Create batch of latent vectors that we will use to visualize\n",
    "#  the progression of the generator\n",
    "fixed_noise = torch.randn(1, nz, device=device)\n",
    "\n",
    "# Establish convention for real and fake labels during training\n",
    "real_label = 1.\n",
    "fake_label = 0.\n",
    "\n",
    "# Setup Adam optimizers for both G and D\n",
    "optimizerD = optim.Adam(netD.parameters(), lr=lr, betas=(beta1, 0.999))\n",
    "optimizerG = optim.Adam(netG.parameters(), lr=lr, betas=(beta1, 0.999))"
   ]
  },
  {
   "cell_type": "code",
   "execution_count": 50,
   "metadata": {},
   "outputs": [
    {
     "name": "stdout",
     "output_type": "stream",
     "text": [
      "Starting Training Loop...\n",
      "[0/20][0/23]\tLoss_D: 1.3863\tLoss_G: 0.6931\tD(x): 0.5000\tD(G(z)): 0.5000 / 0.5000\n",
      "[1/20][0/23]\tLoss_D: 1.3863\tLoss_G: 0.6931\tD(x): 0.5000\tD(G(z)): 0.5000 / 0.5000\n",
      "[2/20][0/23]\tLoss_D: 1.3863\tLoss_G: 0.6931\tD(x): 0.5000\tD(G(z)): 0.5000 / 0.5000\n",
      "[3/20][0/23]\tLoss_D: 1.3863\tLoss_G: 0.6931\tD(x): 0.5000\tD(G(z)): 0.5000 / 0.5000\n",
      "[4/20][0/23]\tLoss_D: 1.3863\tLoss_G: 0.6931\tD(x): 0.5000\tD(G(z)): 0.5000 / 0.5000\n",
      "[5/20][0/23]\tLoss_D: 1.3863\tLoss_G: 0.6931\tD(x): 0.5000\tD(G(z)): 0.5000 / 0.5000\n",
      "[6/20][0/23]\tLoss_D: 1.3863\tLoss_G: 0.6931\tD(x): 0.5000\tD(G(z)): 0.5000 / 0.5000\n",
      "[7/20][0/23]\tLoss_D: 1.3863\tLoss_G: 0.6931\tD(x): 0.5000\tD(G(z)): 0.5000 / 0.5000\n",
      "[8/20][0/23]\tLoss_D: 1.3863\tLoss_G: 0.6931\tD(x): 0.5000\tD(G(z)): 0.5000 / 0.5000\n",
      "[9/20][0/23]\tLoss_D: 1.3863\tLoss_G: 0.6931\tD(x): 0.5000\tD(G(z)): 0.5000 / 0.5000\n",
      "[10/20][0/23]\tLoss_D: 1.3863\tLoss_G: 0.6931\tD(x): 0.5000\tD(G(z)): 0.5000 / 0.5000\n",
      "[11/20][0/23]\tLoss_D: 1.3863\tLoss_G: 0.6931\tD(x): 0.5000\tD(G(z)): 0.5000 / 0.5000\n",
      "[12/20][0/23]\tLoss_D: 1.3863\tLoss_G: 0.6931\tD(x): 0.5000\tD(G(z)): 0.5000 / 0.5000\n",
      "[13/20][0/23]\tLoss_D: 1.3863\tLoss_G: 0.6931\tD(x): 0.5000\tD(G(z)): 0.5000 / 0.5000\n",
      "[14/20][0/23]\tLoss_D: 1.3863\tLoss_G: 0.6931\tD(x): 0.5000\tD(G(z)): 0.5000 / 0.5000\n",
      "[15/20][0/23]\tLoss_D: 1.3863\tLoss_G: 0.6931\tD(x): 0.5000\tD(G(z)): 0.5000 / 0.5000\n",
      "[16/20][0/23]\tLoss_D: 1.3863\tLoss_G: 0.6931\tD(x): 0.5000\tD(G(z)): 0.5000 / 0.5000\n",
      "[17/20][0/23]\tLoss_D: 1.3863\tLoss_G: 0.6931\tD(x): 0.5000\tD(G(z)): 0.5000 / 0.5000\n",
      "[18/20][0/23]\tLoss_D: 1.3863\tLoss_G: 0.6931\tD(x): 0.5000\tD(G(z)): 0.5000 / 0.5000\n",
      "[19/20][0/23]\tLoss_D: 1.3863\tLoss_G: 0.6931\tD(x): 0.5000\tD(G(z)): 0.5000 / 0.5000\n"
     ]
    }
   ],
   "source": [
    "# Training Loop\n",
    "\n",
    "# Lists to keep track of progress\n",
    "img_list = []\n",
    "G_losses = []\n",
    "D_losses = []\n",
    "iters = 0\n",
    "\n",
    "print(\"Starting Training Loop...\")\n",
    "# For each epoch\n",
    "for epoch in range(num_epochs):\n",
    "    # For each batch in the dataloader\n",
    "    for i, data in enumerate(dataloader, 0):\n",
    "        \n",
    "        ############################\n",
    "        netD.zero_grad()\n",
    "        \n",
    "        real_cpu = data[0].to(device)\n",
    "        b_size = real_cpu.size(0)\n",
    "        label = torch.full((b_size,), real_label, dtype=torch.float, device=device)\n",
    "\n",
    "        output = netD(real_cpu).view(-1)\n",
    "\n",
    "        errD_real = criterion(output, label)\n",
    "\n",
    "        errD_real.backward()\n",
    "        D_x = output.mean().item()\n",
    "\n",
    "        ## Train with all-fake batch\n",
    "        noise = torch.randn(b_size, nz, device=device)\n",
    "\n",
    "        fake = netG(noise)\n",
    "        label.fill_(fake_label)\n",
    "        \n",
    "        output = netD(fake.detach()).view(-1)\n",
    "\n",
    "        errD_fake = criterion(output, label)\n",
    "\n",
    "        errD_fake.backward()\n",
    "        D_G_z1 = output.mean().item()\n",
    "\n",
    "        errD = errD_real + errD_fake\n",
    "        # Update D\n",
    "        optimizerD.step()\n",
    "\n",
    "        ############################\n",
    "        # (2) Update G network: maximize log(D(G(z)))\n",
    "        ###########################\n",
    "        netG.zero_grad()\n",
    "        label.fill_(real_label)  # fake labels are real for generator cost\n",
    "\n",
    "        output = netD(fake).view(-1)\n",
    "\n",
    "        errG = criterion(output, label)\n",
    "\n",
    "        errG.backward()\n",
    "        D_G_z2 = output.mean().item()\n",
    "\n",
    "        optimizerG.step()\n",
    "\n",
    "        # Output training stats\n",
    "        if i % 50 == 0:\n",
    "            print('[%d/%d][%d/%d]\\tLoss_D: %.4f\\tLoss_G: %.4f\\tD(x): %.4f\\tD(G(z)): %.4f / %.4f'\n",
    "                  % (epoch, num_epochs, i, len(dataloader),\n",
    "                     errD.item(), errG.item(), D_x, D_G_z1, D_G_z2))\n",
    "\n",
    "        # Save Losses for plotting later\n",
    "        G_losses.append(errG.item())\n",
    "        D_losses.append(errD.item())\n",
    "\n",
    "        # Check how the generator is doing by saving G's output on fixed_noise\n",
    "        if (iters % 500 == 0) or ((epoch == num_epochs-1) and (i == len(dataloader)-1)):\n",
    "            with torch.no_grad():\n",
    "                fake = netG(fixed_noise).detach().cpu()\n",
    "            img_list.append(vutils.make_grid(fake, padding=2, normalize=True))\n",
    "\n",
    "        iters += 1"
   ]
  },
  {
   "cell_type": "code",
   "execution_count": 51,
   "metadata": {},
   "outputs": [
    {
     "data": {
      "text/plain": [
       "[<matplotlib.lines.Line2D at 0x16ec48968b0>]"
      ]
     },
     "execution_count": 51,
     "metadata": {},
     "output_type": "execute_result"
    },
    {
     "data": {
      "image/png": "[encoded data removed]",
      "text/plain": [
       "<Figure size 640x480 with 1 Axes>"
      ]
     },
     "metadata": {},
     "output_type": "display_data"
    }
   ],
   "source": [
    "plt.plot(G_losses)\n",
    "plt.plot(D_losses)"
   ]
  },
  {
   "cell_type": "markdown",
   "metadata": {},
   "source": [
    "## Génération de données"
   ]
  },
  {
   "cell_type": "code",
   "execution_count": 52,
   "metadata": {},
   "outputs": [],
   "source": [
    "from DWasserstein4D import dWasserstein4D"
   ]
  },
  {
   "cell_type": "code",
   "execution_count": 53,
   "metadata": {},
   "outputs": [],
   "source": [
    "data = np.load(\"data/round1.npy\")\n",
    "N = data.shape[0]"
   ]
  },
  {
   "cell_type": "code",
   "execution_count": 54,
   "metadata": {},
   "outputs": [],
   "source": [
    "genData = np.empty((N, 4))\n",
    "for i in range(N):\n",
    "    noise = torch.randn(b_size, nz, device=device)\n",
    "    fake = netG(noise)\n",
    "    genData[i,:] = fake.detach().numpy().T[0]"
   ]
  },
  {
   "cell_type": "code",
   "execution_count": 55,
   "metadata": {},
   "outputs": [
    {
     "data": {
      "text/plain": [
       "5.6645867423793925"
      ]
     },
     "execution_count": 55,
     "metadata": {},
     "output_type": "execute_result"
    }
   ],
   "source": [
    "dWasserstein4D(data, genData, niter = int(1e3))"
   ]
  },
  {
   "cell_type": "code",
   "execution_count": 56,
   "metadata": {},
   "outputs": [
    {
     "data": {
      "text/plain": [
       "<matplotlib.legend.Legend at 0x16ec48bc6a0>"
      ]
     },
     "execution_count": 56,
     "metadata": {},
     "output_type": "execute_result"
    },
    {
     "data": {
      "image/png": "[encoded data removed]",
      "text/plain": [
       "<Figure size 640x480 with 1 Axes>"
      ]
     },
     "metadata": {},
     "output_type": "display_data"
    }
   ],
   "source": [
    "for i in range(4):\n",
    "    plt.plot(np.concatenate((data[:,i], genData[:,i])), alpha = 0.7)\n",
    "    # plt.plot(genData[:,i], alpha = 0.5)\n",
    "plt.axvline(x=1144, color = \"red\", label = \"changement d'ensemble de données\")\n",
    "plt.legend()"
   ]
  },
  {
   "cell_type": "code",
   "execution_count": 57,
   "metadata": {},
   "outputs": [],
   "source": [
    "# np.save(\"generated_data/genDataSoline\", genData)"
   ]
  }
 ],
 "metadata": {
  "kernelspec": {
   "display_name": "base",
   "language": "python",
   "name": "python3"
  },
  "language_info": {
   "codemirror_mode": {
    "name": "ipython",
    "version": 3
   },
   "file_extension": ".py",
   "mimetype": "text/x-python",
   "name": "python",
   "nbconvert_exporter": "python",
   "pygments_lexer": "ipython3",
   "version": "3.9.19"
  }
 },
 "nbformat": 4,
 "nbformat_minor": 2
}
