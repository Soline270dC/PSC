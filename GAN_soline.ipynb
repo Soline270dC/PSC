{
 "cells": [
  {
   "cell_type": "code",
   "execution_count": 1,
   "metadata": {},
   "outputs": [],
   "source": [
    "import argparse\n",
    "import os\n",
    "import random\n",
    "import torch\n",
    "import torch.nn as nn\n",
    "import torch.nn.parallel\n",
    "import torch.optim as optim\n",
    "import torch.utils.data\n",
    "import torchvision.datasets as dset\n",
    "import torchvision.transforms as transforms\n",
    "import torchvision.utils as vutils\n",
    "import numpy as np\n",
    "import matplotlib.pyplot as plt\n",
    "import matplotlib.animation as animation\n",
    "from IPython.display import HTML"
   ]
  },
  {
   "cell_type": "code",
   "execution_count": 2,
   "metadata": {},
   "outputs": [
    {
     "name": "stdout",
     "output_type": "stream",
     "text": [
      "Random Seed:  999\n"
     ]
    }
   ],
   "source": [
    "# Set random seed for reproducibility\n",
    "manualSeed = 999\n",
    "#manualSeed = random.randint(1, 10000) # use if you want new results\n",
    "print(\"Random Seed: \", manualSeed)\n",
    "random.seed(manualSeed)\n",
    "torch.manual_seed(manualSeed)\n",
    "torch.use_deterministic_algorithms(True) # Needed for reproducible results"
   ]
  },
  {
   "cell_type": "code",
   "execution_count": 3,
   "metadata": {},
   "outputs": [],
   "source": [
    "# Root directory for dataset\n",
    "dataroot = \"data\"\n",
    "\n",
    "# Number of workers for dataloader\n",
    "workers = 0\n",
    "\n",
    "# Batch size during training\n",
    "batch_size = 50\n",
    "\n",
    "# Number of channels in the training images. For color images this is 3\n",
    "nc = 1\n",
    "\n",
    "# Size of z latent vector (i.e. size of generator input)\n",
    "nz = 50\n",
    "\n",
    "# Size of feature maps in generator\n",
    "ngf = 5\n",
    "\n",
    "# Size of feature maps in discriminator\n",
    "ndf = 5\n",
    "\n",
    "# Number of training epochs\n",
    "num_epochs = 22\n",
    "\n",
    "# Learning rate for optimizers\n",
    "lr = 0.0002\n",
    "\n",
    "# Beta1 hyperparameter for Adam optimizers\n",
    "beta1 = 0.5\n",
    "\n",
    "# Number of GPUs available. Use 0 for CPU mode.\n",
    "ngpu = 0"
   ]
  },
  {
   "cell_type": "code",
   "execution_count": 4,
   "metadata": {},
   "outputs": [],
   "source": [
    "class Dataset():\n",
    "    def __init__(self, root = dataroot):\n",
    "        self.root = root\n",
    "        self.dataset = self.build_dataset()\n",
    "        self.length = self.dataset.shape[1]\n",
    "\n",
    "    def __len__(self):\n",
    "        return self.length\n",
    "\n",
    "    def __getitem__(self, idx):\n",
    "        step = self.dataset[:, idx]\n",
    "        target = 0  # only one class\n",
    "        return step#, target\n",
    "\n",
    "    def build_dataset(self):\n",
    "        dataset = np.load(os.path.join(self.root, \"round1.npy\")).T\n",
    "        dataset = torch.from_numpy(dataset).float()\n",
    "        dataset = torch.unsqueeze(dataset, -1)\n",
    "        return dataset"
   ]
  },
  {
   "cell_type": "code",
   "execution_count": 5,
   "metadata": {},
   "outputs": [],
   "source": [
    "dataset = Dataset(dataroot)"
   ]
  },
  {
   "cell_type": "code",
   "execution_count": 6,
   "metadata": {},
   "outputs": [],
   "source": [
    "# Create the dataloader\n",
    "dataloader = torch.utils.data.DataLoader(dataset, batch_size=batch_size,\n",
    "                                         shuffle=True)\n",
    "\n",
    "# Decide which device we want to run on\n",
    "device = torch.device(\"cuda:0\" if (torch.cuda.is_available() and ngpu > 0) else \"cpu\")"
   ]
  },
  {
   "cell_type": "code",
   "execution_count": 7,
   "metadata": {},
   "outputs": [
    {
     "data": {
      "text/plain": [
       "tensor([[6.0700],\n",
       "        [9.0900],\n",
       "        [7.5900],\n",
       "        [2.4500]])"
      ]
     },
     "execution_count": 7,
     "metadata": {},
     "output_type": "execute_result"
    }
   ],
   "source": [
    "next(iter(iter(dataloader)))[0]"
   ]
  },
  {
   "cell_type": "code",
   "execution_count": 8,
   "metadata": {},
   "outputs": [],
   "source": [
    "# custom weights initialization called on ``netG`` and ``netD``\n",
    "def weights_init(m):\n",
    "    classname = m.__class__.__name__\n",
    "    if classname.find('Linear') != -1:\n",
    "        nn.init.normal_(m.weight.data, 0.0, 0.02)"
   ]
  },
  {
   "cell_type": "code",
   "execution_count": 9,
   "metadata": {},
   "outputs": [],
   "source": [
    "class Generator(nn.Module):\n",
    "    def __init__(self, ngpu):\n",
    "        super(Generator, self).__init__()\n",
    "        self.ngpu = ngpu\n",
    "        self.main = nn.Sequential(\n",
    "            # input is Z\n",
    "            nn.Linear(nz, ngf * 8, bias=False),\n",
    "            nn.ReLU(True),\n",
    "            # state size. ``(ngf*8)``\n",
    "            nn.Linear(ngf * 8, ngf * 4, bias=False),\n",
    "            nn.ReLU(True),\n",
    "            # state size. ``(ngf*4)``\n",
    "            nn.Linear(ngf * 4, ngf * 2, bias=False),\n",
    "            nn.ReLU(True),\n",
    "            # state size. ``(ngf*2)``\n",
    "            nn.Linear(ngf * 2, ngf, bias=False),\n",
    "            nn.ReLU(True),\n",
    "            # state size. ``(ngf)``\n",
    "            nn.Linear(ngf, nc, bias=False),\n",
    "            nn.Tanh()\n",
    "            # state size. ``(nc)``\n",
    "        )\n",
    "\n",
    "    def forward(self, input):\n",
    "        return self.main(input)"
   ]
  },
  {
   "cell_type": "code",
   "execution_count": 10,
   "metadata": {},
   "outputs": [
    {
     "name": "stdout",
     "output_type": "stream",
     "text": [
      "Generator(\n",
      "  (main): Sequential(\n",
      "    (0): Linear(in_features=50, out_features=40, bias=False)\n",
      "    (1): ReLU(inplace=True)\n",
      "    (2): Linear(in_features=40, out_features=20, bias=False)\n",
      "    (3): ReLU(inplace=True)\n",
      "    (4): Linear(in_features=20, out_features=10, bias=False)\n",
      "    (5): ReLU(inplace=True)\n",
      "    (6): Linear(in_features=10, out_features=5, bias=False)\n",
      "    (7): ReLU(inplace=True)\n",
      "    (8): Linear(in_features=5, out_features=1, bias=False)\n",
      "    (9): Tanh()\n",
      "  )\n",
      ")\n"
     ]
    }
   ],
   "source": [
    "# Create the generator\n",
    "netG = Generator(ngpu).to(device)\n",
    "\n",
    "# Handle multi-GPU if desired\n",
    "if (device.type == 'cuda') and (ngpu > 1):\n",
    "    netG = nn.DataParallel(netG, list(range(ngpu)))\n",
    "\n",
    "# Apply the ``weights_init`` function to randomly initialize all weights\n",
    "#  to ``mean=0``, ``stdev=0.02``.\n",
    "netG.apply(weights_init)\n",
    "\n",
    "# Print the model\n",
    "print(netG)"
   ]
  },
  {
   "cell_type": "code",
   "execution_count": 11,
   "metadata": {},
   "outputs": [],
   "source": [
    "class Discriminator(nn.Module):\n",
    "    def __init__(self, ngpu):\n",
    "        super(Discriminator, self).__init__()\n",
    "        self.ngpu = ngpu\n",
    "        self.main = nn.Sequential(\n",
    "            # input is ``(nc)``\n",
    "            nn.Linear(in_features=nc, out_features=ndf, bias=False),\n",
    "            nn.LeakyReLU(0.2, inplace=True),\n",
    "            # state size. ``(ndf)``\n",
    "            nn.Linear(ndf, ndf * 2, bias=False),\n",
    "            nn.LeakyReLU(0.2, inplace=True),\n",
    "            # state size. ``(ndf*2)``\n",
    "            nn.Linear(ndf * 2, ndf * 4, bias=False),\n",
    "            nn.LeakyReLU(0.2, inplace=True),\n",
    "            # state size. ``(ndf*4)``\n",
    "            nn.Linear(ndf * 4, ndf * 8, bias=False),\n",
    "            nn.LeakyReLU(0.2, inplace=True),\n",
    "            # state size. ``(ndf*8)``\n",
    "            nn.Linear(ndf * 8, 1, bias=False),\n",
    "            nn.Sigmoid()\n",
    "        )\n",
    "\n",
    "    def forward(self, input):\n",
    "        return self.main(input)"
   ]
  },
  {
   "cell_type": "code",
   "execution_count": 12,
   "metadata": {},
   "outputs": [
    {
     "name": "stdout",
     "output_type": "stream",
     "text": [
      "Discriminator(\n",
      "  (main): Sequential(\n",
      "    (0): Linear(in_features=1, out_features=5, bias=False)\n",
      "    (1): LeakyReLU(negative_slope=0.2, inplace=True)\n",
      "    (2): Linear(in_features=5, out_features=10, bias=False)\n",
      "    (3): LeakyReLU(negative_slope=0.2, inplace=True)\n",
      "    (4): Linear(in_features=10, out_features=20, bias=False)\n",
      "    (5): LeakyReLU(negative_slope=0.2, inplace=True)\n",
      "    (6): Linear(in_features=20, out_features=40, bias=False)\n",
      "    (7): LeakyReLU(negative_slope=0.2, inplace=True)\n",
      "    (8): Linear(in_features=40, out_features=1, bias=False)\n",
      "    (9): Sigmoid()\n",
      "  )\n",
      ")\n"
     ]
    }
   ],
   "source": [
    "# Create the Discriminator\n",
    "netD = Discriminator(ngpu).to(device)\n",
    "\n",
    "# Handle multi-GPU if desired\n",
    "if (device.type == 'cuda') and (ngpu > 1):\n",
    "    netD = nn.DataParallel(netD, list(range(ngpu)))\n",
    "\n",
    "# Apply the ``weights_init`` function to randomly initialize all weights\n",
    "# like this: ``to mean=0, stdev=0.2``.\n",
    "netD.apply(weights_init)\n",
    "\n",
    "# Print the model\n",
    "print(netD)"
   ]
  },
  {
   "cell_type": "code",
   "execution_count": 13,
   "metadata": {},
   "outputs": [],
   "source": [
    "# Initialize the ``BCELoss`` function\n",
    "criterion = nn.BCELoss()\n",
    "\n",
    "# Create batch of latent vectors that we will use to visualize\n",
    "#  the progression of the generator\n",
    "fixed_noise = torch.randn(1, nz, device=device)\n",
    "\n",
    "# Establish convention for real and fake labels during training\n",
    "real_label = 1.\n",
    "fake_label = 0.\n",
    "\n",
    "# Setup Adam optimizers for both G and D\n",
    "optimizerD = optim.Adam(netD.parameters(), lr=lr, betas=(beta1, 0.999))\n",
    "optimizerG = optim.Adam(netG.parameters(), lr=lr, betas=(beta1, 0.999))"
   ]
  },
  {
   "cell_type": "code",
   "execution_count": 14,
   "metadata": {},
   "outputs": [
    {
     "name": "stdout",
     "output_type": "stream",
     "text": [
      "Starting Training Loop...\n",
      "[0/22][0/23]\tLoss_D: 1.3863\tLoss_G: 0.6931\tD(x): 0.5000\tD(G(z)): 0.5000 / 0.5000\n",
      "[1/22][0/23]\tLoss_D: 1.3863\tLoss_G: 0.6931\tD(x): 0.5000\tD(G(z)): 0.5000 / 0.5000\n",
      "[2/22][0/23]\tLoss_D: 1.3862\tLoss_G: 0.6931\tD(x): 0.5000\tD(G(z)): 0.5000 / 0.5000\n",
      "[3/22][0/23]\tLoss_D: 1.3852\tLoss_G: 0.6931\tD(x): 0.5005\tD(G(z)): 0.5000 / 0.5000\n",
      "[4/22][0/23]\tLoss_D: 1.3830\tLoss_G: 0.6931\tD(x): 0.5016\tD(G(z)): 0.5000 / 0.5000\n",
      "[5/22][0/23]\tLoss_D: 1.3712\tLoss_G: 0.6931\tD(x): 0.5076\tD(G(z)): 0.5000 / 0.5000\n",
      "[6/22][0/23]\tLoss_D: 1.3614\tLoss_G: 0.6931\tD(x): 0.5126\tD(G(z)): 0.5000 / 0.5000\n",
      "[7/22][0/23]\tLoss_D: 1.3312\tLoss_G: 0.6931\tD(x): 0.5285\tD(G(z)): 0.5000 / 0.5000\n",
      "[8/22][0/23]\tLoss_D: 1.2340\tLoss_G: 0.6928\tD(x): 0.5832\tD(G(z)): 0.5002 / 0.5002\n",
      "[9/22][0/23]\tLoss_D: 1.1769\tLoss_G: 0.6907\tD(x): 0.6207\tD(G(z)): 0.5012 / 0.5012\n",
      "[10/22][0/23]\tLoss_D: 1.0649\tLoss_G: 0.6821\tD(x): 0.7002\tD(G(z)): 0.5054 / 0.5055\n",
      "[11/22][0/23]\tLoss_D: 1.0086\tLoss_G: 0.6675\tD(x): 0.7522\tD(G(z)): 0.5128 / 0.5130\n",
      "[12/22][0/23]\tLoss_D: 0.9171\tLoss_G: 0.6446\tD(x): 0.8436\tD(G(z)): 0.5248 / 0.5250\n",
      "[13/22][0/23]\tLoss_D: 1.0969\tLoss_G: 0.5875\tD(x): 0.7656\tD(G(z)): 0.5555 / 0.5557\n",
      "[14/22][0/23]\tLoss_D: 0.9684\tLoss_G: 0.5683\tD(x): 0.8798\tD(G(z)): 0.5663 / 0.5665\n",
      "[15/22][0/23]\tLoss_D: 0.9723\tLoss_G: 0.5536\tD(x): 0.8921\tD(G(z)): 0.5747 / 0.5749\n",
      "[16/22][0/23]\tLoss_D: 0.9811\tLoss_G: 0.5418\tD(x): 0.8985\tD(G(z)): 0.5816 / 0.5817\n",
      "[17/22][0/23]\tLoss_D: 1.0689\tLoss_G: 0.5432\tD(x): 0.8290\tD(G(z)): 0.5808 / 0.5809\n",
      "[18/22][0/23]\tLoss_D: 1.1137\tLoss_G: 0.5367\tD(x): 0.8046\tD(G(z)): 0.5847 / 0.5846\n",
      "[19/22][0/23]\tLoss_D: 1.0273\tLoss_G: 0.5357\tD(x): 0.8654\tD(G(z)): 0.5852 / 0.5853\n",
      "[20/22][0/23]\tLoss_D: 1.1026\tLoss_G: 0.5359\tD(x): 0.8199\tD(G(z)): 0.5852 / 0.5852\n",
      "[21/22][0/23]\tLoss_D: 1.0525\tLoss_G: 0.5375\tD(x): 0.8516\tD(G(z)): 0.5844 / 0.5842\n"
     ]
    }
   ],
   "source": [
    "# Training Loop\n",
    "\n",
    "# Lists to keep track of progress\n",
    "img_list = []\n",
    "G_losses = []\n",
    "D_losses = []\n",
    "iters = 0\n",
    "\n",
    "print(\"Starting Training Loop...\")\n",
    "# For each epoch\n",
    "for epoch in range(num_epochs):\n",
    "    # For each batch in the dataloader\n",
    "    for i, data in enumerate(dataloader, 0):\n",
    "        \n",
    "        ############################\n",
    "        # (1) Update D network: maximize log(D(x)) + log(1 - D(G(z)))\n",
    "        ###########################\n",
    "        ## Train with all-real batch\n",
    "        netD.zero_grad()\n",
    "        # Format batch\n",
    "        real_cpu = data[0].to(device)\n",
    "        b_size = real_cpu.size(0)\n",
    "        label = torch.full((b_size,), real_label, dtype=torch.float, device=device)\n",
    "        # Forward pass real batch through D\n",
    "        output = netD(real_cpu).view(-1)\n",
    "        # Calculate loss on all-real batch\n",
    "        errD_real = criterion(output, label)\n",
    "        # Calculate gradients for D in backward pass\n",
    "        errD_real.backward()\n",
    "        D_x = output.mean().item()\n",
    "\n",
    "        ## Train with all-fake batch\n",
    "        # Generate batch of latent vectors\n",
    "        noise = torch.randn(b_size, nz, device=device)\n",
    "        # Generate fake image batch with G\n",
    "        fake = netG(noise)\n",
    "        label.fill_(fake_label)\n",
    "        # Classify all fake batch with D\n",
    "        output = netD(fake.detach()).view(-1)\n",
    "        # Calculate D's loss on the all-fake batch\n",
    "        errD_fake = criterion(output, label)\n",
    "        # Calculate the gradients for this batch, accumulated (summed) with previous gradients\n",
    "        errD_fake.backward()\n",
    "        D_G_z1 = output.mean().item()\n",
    "        # Compute error of D as sum over the fake and the real batches\n",
    "        errD = errD_real + errD_fake\n",
    "        # Update D\n",
    "        optimizerD.step()\n",
    "\n",
    "        ############################\n",
    "        # (2) Update G network: maximize log(D(G(z)))\n",
    "        ###########################\n",
    "        netG.zero_grad()\n",
    "        label.fill_(real_label)  # fake labels are real for generator cost\n",
    "        # Since we just updated D, perform another forward pass of all-fake batch through D\n",
    "        output = netD(fake).view(-1)\n",
    "        # Calculate G's loss based on this output\n",
    "        errG = criterion(output, label)\n",
    "        # Calculate gradients for G\n",
    "        errG.backward()\n",
    "        D_G_z2 = output.mean().item()\n",
    "        # Update G\n",
    "        optimizerG.step()\n",
    "\n",
    "        # Output training stats\n",
    "        if i % 50 == 0:\n",
    "            print('[%d/%d][%d/%d]\\tLoss_D: %.4f\\tLoss_G: %.4f\\tD(x): %.4f\\tD(G(z)): %.4f / %.4f'\n",
    "                  % (epoch, num_epochs, i, len(dataloader),\n",
    "                     errD.item(), errG.item(), D_x, D_G_z1, D_G_z2))\n",
    "\n",
    "        # Save Losses for plotting later\n",
    "        G_losses.append(errG.item())\n",
    "        D_losses.append(errD.item())\n",
    "\n",
    "        # Check how the generator is doing by saving G's output on fixed_noise\n",
    "        if (iters % 500 == 0) or ((epoch == num_epochs-1) and (i == len(dataloader)-1)):\n",
    "            with torch.no_grad():\n",
    "                fake = netG(fixed_noise).detach().cpu()\n",
    "            img_list.append(vutils.make_grid(fake, padding=2, normalize=True))\n",
    "\n",
    "        iters += 1"
   ]
  },
  {
   "cell_type": "code",
   "execution_count": 15,
   "metadata": {},
   "outputs": [
    {
     "data": {
      "text/plain": [
       "[<matplotlib.lines.Line2D at 0x1b7f13fe2e0>]"
      ]
     },
     "execution_count": 15,
     "metadata": {},
     "output_type": "execute_result"
    },
    {
     "data": {
      "image/png": "[encoded data removed]",
      "text/plain": [
       "<Figure size 640x480 with 1 Axes>"
      ]
     },
     "metadata": {},
     "output_type": "display_data"
    }
   ],
   "source": [
    "plt.plot(G_losses)\n",
    "plt.plot(D_losses)"
   ]
  },
  {
   "cell_type": "markdown",
   "metadata": {},
   "source": [
    "## Test distance de Wasserstein"
   ]
  },
  {
   "cell_type": "code",
   "execution_count": 16,
   "metadata": {},
   "outputs": [],
   "source": [
    "from DWasserstein4D import dWasserstein4D"
   ]
  },
  {
   "cell_type": "code",
   "execution_count": 22,
   "metadata": {},
   "outputs": [],
   "source": [
    "n = 100\n",
    "x = np.random.randn(n, 4)\n",
    "y = np.random.randn(n, 4)"
   ]
  },
  {
   "cell_type": "code",
   "execution_count": 26,
   "metadata": {},
   "outputs": [
    {
     "data": {
      "text/plain": [
       "(0.16120468035796165, 0.16789384413810718, 0.16971943291179387)"
      ]
     },
     "execution_count": 26,
     "metadata": {},
     "output_type": "execute_result"
    }
   ],
   "source": [
    "dWasserstein4D(x, y, 100), dWasserstein4D(x,y,1000), dWasserstein4D(x, y, 10000)"
   ]
  },
  {
   "cell_type": "markdown",
   "metadata": {},
   "source": [
    "## Génération de données"
   ]
  },
  {
   "cell_type": "code",
   "execution_count": 32,
   "metadata": {},
   "outputs": [],
   "source": [
    "data = np.load(\"data/round1.npy\")\n",
    "N = data.shape[0]"
   ]
  },
  {
   "cell_type": "code",
   "execution_count": 33,
   "metadata": {},
   "outputs": [],
   "source": [
    "genData = np.empty((N, 4))\n",
    "for i in range(N):\n",
    "    noise = torch.randn(b_size, nz, device=device)\n",
    "    fake = netG(noise)\n",
    "    genData[i,:] = fake.detach().numpy().T[0]"
   ]
  },
  {
   "cell_type": "code",
   "execution_count": 40,
   "metadata": {},
   "outputs": [
    {
     "data": {
      "text/plain": [
       "4.986363036057078"
      ]
     },
     "execution_count": 40,
     "metadata": {},
     "output_type": "execute_result"
    }
   ],
   "source": [
    "dWasserstein4D(data, genData, niter = int(1e4))"
   ]
  }
 ],
 "metadata": {
  "kernelspec": {
   "display_name": "base",
   "language": "python",
   "name": "python3"
  },
  "language_info": {
   "codemirror_mode": {
    "name": "ipython",
    "version": 3
   },
   "file_extension": ".py",
   "mimetype": "text/x-python",
   "name": "python",
   "nbconvert_exporter": "python",
   "pygments_lexer": "ipython3",
   "version": "3.9.19"
  }
 },
 "nbformat": 4,
 "nbformat_minor": 2
}
