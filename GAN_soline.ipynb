{
 "cells": [
  {
   "cell_type": "code",
   "execution_count": 50,
   "metadata": {},
   "outputs": [],
   "source": [
    "import os\n",
    "import random\n",
    "import torch\n",
    "import torch.nn as nn\n",
    "import torch.nn.parallel\n",
    "import torch.optim as optim\n",
    "import torch.utils.data\n",
    "import torchvision.utils as vutils\n",
    "import numpy as np\n",
    "import matplotlib.pyplot as plt"
   ]
  },
  {
   "cell_type": "code",
   "execution_count": 51,
   "metadata": {},
   "outputs": [
    {
     "name": "stdout",
     "output_type": "stream",
     "text": [
      "Random Seed:  999\n"
     ]
    }
   ],
   "source": [
    "# Set random seed for reproducibility\n",
    "manualSeed = 999\n",
    "# manualSeed = random.randint(1, 10000) # use if you want new results\n",
    "print(\"Random Seed: \", manualSeed)\n",
    "random.seed(manualSeed)\n",
    "torch.manual_seed(manualSeed)\n",
    "torch.use_deterministic_algorithms(True) # Needed for reproducible results"
   ]
  },
  {
   "cell_type": "code",
   "execution_count": 52,
   "metadata": {},
   "outputs": [],
   "source": [
    "# Root directory for dataset\n",
    "dataroot = \"data\"\n",
    "\n",
    "# Number of workers for dataloader\n",
    "workers = 0\n",
    "\n",
    "# Batch size during training\n",
    "batch_size = 50\n",
    "\n",
    "# Size of z latent vector (i.e. size of generator input)\n",
    "nz = 10\n",
    "\n",
    "# Size of feature maps in generator\n",
    "ngf = 10\n",
    "\n",
    "# Size of feature maps in discriminator\n",
    "ndf = 10\n",
    "\n",
    "# Number of training epochs\n",
    "num_epochs = 40\n",
    "\n",
    "# Learning rate for optimizers\n",
    "lr = 0.0002\n",
    "\n",
    "# Beta1 hyperparameter for Adam optimizers\n",
    "beta1 = 0.5\n",
    "\n",
    "# Number of GPUs available. Use 0 for CPU mode.\n",
    "ngpu = 0"
   ]
  },
  {
   "cell_type": "code",
   "execution_count": 53,
   "metadata": {},
   "outputs": [],
   "source": [
    "class Dataset():\n",
    "    def __init__(self, root = dataroot):\n",
    "        self.root = root\n",
    "        self.dataset = self.build_dataset()\n",
    "        self.length = self.dataset.shape[1]\n",
    "\n",
    "    def __len__(self):\n",
    "        return self.length\n",
    "\n",
    "    def __getitem__(self, idx):\n",
    "        step = self.dataset[:, idx]\n",
    "        target = 0  # only one class\n",
    "        return step\n",
    "\n",
    "    def build_dataset(self):\n",
    "        dataset = np.load(os.path.join(self.root, \"round1.npy\")).T\n",
    "        dataset = torch.from_numpy(dataset).float()\n",
    "        dataset = torch.unsqueeze(dataset, -1)\n",
    "        return dataset"
   ]
  },
  {
   "cell_type": "code",
   "execution_count": 54,
   "metadata": {},
   "outputs": [],
   "source": [
    "dataset = Dataset(dataroot)"
   ]
  },
  {
   "cell_type": "code",
   "execution_count": 55,
   "metadata": {},
   "outputs": [],
   "source": [
    "# Create the dataloader\n",
    "dataloader = torch.utils.data.DataLoader(dataset, batch_size=batch_size,\n",
    "                                         shuffle=True)\n",
    "\n",
    "# Decide which device we want to run on\n",
    "device = torch.device(\"cuda:0\" if (torch.cuda.is_available() and ngpu > 0) else \"cpu\")"
   ]
  },
  {
   "cell_type": "code",
   "execution_count": 56,
   "metadata": {},
   "outputs": [
    {
     "data": {
      "text/plain": [
       "tensor([[6.0700],\n",
       "        [9.0900],\n",
       "        [7.5900],\n",
       "        [2.4500]])"
      ]
     },
     "execution_count": 56,
     "metadata": {},
     "output_type": "execute_result"
    }
   ],
   "source": [
    "next(iter(iter(dataloader)))[0]"
   ]
  },
  {
   "cell_type": "code",
   "execution_count": 57,
   "metadata": {},
   "outputs": [],
   "source": [
    "# custom weights initialization called on ``netG`` and ``netD``\n",
    "def weights_init(m):\n",
    "    classname = m.__class__.__name__\n",
    "    if classname.find('Linear') != -1:\n",
    "        n = m.in_features\n",
    "        y = 1.0/np.sqrt(n)\n",
    "        # nn.init.normal_(m.weight.data, 0.0, y)\n",
    "        nn.init.uniform_(m.weight.data, -y, y)\n",
    "        # nn.init.normal_(m.weight.data, 0.0, 1e-2)"
   ]
  },
  {
   "cell_type": "code",
   "execution_count": 58,
   "metadata": {},
   "outputs": [],
   "source": [
    "class Generator(nn.Module):\n",
    "    def __init__(self, ngpu):\n",
    "        super(Generator, self).__init__()\n",
    "        self.ngpu = ngpu\n",
    "        self.main = nn.Sequential(\n",
    "            # # input is Z\n",
    "            # nn.Linear(nz, ngf * 8, bias=False),\n",
    "            # nn.ReLU(True),\n",
    "            # # state size. ``(ngf*8)``\n",
    "            # nn.Linear(ngf * 8, ngf * 4, bias=False),\n",
    "            # nn.ReLU(True),\n",
    "            # # state size. ``(ngf*4)``\n",
    "            # nn.Linear(ngf * 4, ngf * 2, bias=False),\n",
    "            # nn.ReLU(True),\n",
    "            # # state size. ``(ngf*2)``\n",
    "            # nn.Linear(ngf * 2, ngf, bias=False),\n",
    "            # nn.ReLU(True),\n",
    "            # # state size. ``(ngf)``\n",
    "            # nn.Linear(ngf, 1, bias=False),\n",
    "            # nn.ReLU(True)\n",
    "            # # state size. ``(1)``\n",
    "            nn.Linear(nz, 20, bias = False),\n",
    "            nn.ReLU(True),\n",
    "            nn.Linear(20, 50, bias = False),\n",
    "            nn.ReLU(True),\n",
    "            nn.Linear(50, 35, bias = False),\n",
    "            nn.ReLU(True),\n",
    "            nn.Linear(35, 20, bias = False),\n",
    "            nn.ReLU(True),\n",
    "            nn.Linear(20, 1, bias = False),\n",
    "            nn.ReLU(True)\n",
    "        )\n",
    "\n",
    "    def forward(self, input):\n",
    "        return self.main(input)"
   ]
  },
  {
   "cell_type": "code",
   "execution_count": 59,
   "metadata": {},
   "outputs": [
    {
     "name": "stdout",
     "output_type": "stream",
     "text": [
      "Generator(\n",
      "  (main): Sequential(\n",
      "    (0): Linear(in_features=10, out_features=20, bias=False)\n",
      "    (1): ReLU(inplace=True)\n",
      "    (2): Linear(in_features=20, out_features=50, bias=False)\n",
      "    (3): ReLU(inplace=True)\n",
      "    (4): Linear(in_features=50, out_features=35, bias=False)\n",
      "    (5): ReLU(inplace=True)\n",
      "    (6): Linear(in_features=35, out_features=20, bias=False)\n",
      "    (7): ReLU(inplace=True)\n",
      "    (8): Linear(in_features=20, out_features=1, bias=False)\n",
      "    (9): ReLU(inplace=True)\n",
      "  )\n",
      ")\n"
     ]
    }
   ],
   "source": [
    "# Create the generator\n",
    "netG = Generator(ngpu).to(device)\n",
    "\n",
    "# Handle multi-GPU if desired\n",
    "if (device.type == 'cuda') and (ngpu > 1):\n",
    "    netG = nn.DataParallel(netG, list(range(ngpu)))\n",
    "\n",
    "# Apply the ``weights_init`` function to randomly initialize all weights\n",
    "#  to ``mean=0``, ``stdev=0.02``.\n",
    "netG.apply(weights_init)\n",
    "\n",
    "# Print the model\n",
    "print(netG)"
   ]
  },
  {
   "cell_type": "code",
   "execution_count": 60,
   "metadata": {},
   "outputs": [],
   "source": [
    "class Discriminator(nn.Module):\n",
    "    def __init__(self, ngpu):\n",
    "        super(Discriminator, self).__init__()\n",
    "        self.ngpu = ngpu\n",
    "        self.main = nn.Sequential(\n",
    "            # # input is ``(1)``\n",
    "            # nn.Linear(in_features=1, out_features=ndf, bias=False),\n",
    "            # nn.LeakyReLU(0.2, inplace=True),\n",
    "            # # state size. ``(ndf)``\n",
    "            # nn.Linear(ndf, ndf * 2, bias=False),\n",
    "            # nn.LeakyReLU(0.2, inplace=True),\n",
    "            # # state size. ``(ndf*2)``\n",
    "            # nn.Linear(ndf * 2, ndf * 4, bias=False),\n",
    "            # nn.LeakyReLU(0.2, inplace=True),\n",
    "            # # state size. ``(ndf*4)``\n",
    "            # nn.Linear(ndf * 4, ndf * 8, bias=False),\n",
    "            # nn.LeakyReLU(0.2, inplace=True),\n",
    "            # # state size. ``(ndf*8)``\n",
    "            # nn.Linear(ndf * 8, 1, bias=False),\n",
    "            # nn.Sigmoid()\n",
    "            nn.Linear(1, 45, bias = False),\n",
    "            nn.ReLU(True),\n",
    "            nn.Linear(45, 40, bias = False),\n",
    "            nn.ReLU(True),\n",
    "            nn.Linear(40, 23, bias = False),\n",
    "            nn.ReLU(True),\n",
    "            nn.Linear(23, 1, bias = False),\n",
    "            nn.Sigmoid()\n",
    "        )\n",
    "\n",
    "    def forward(self, input):\n",
    "        return self.main(input)"
   ]
  },
  {
   "cell_type": "code",
   "execution_count": 61,
   "metadata": {},
   "outputs": [
    {
     "name": "stdout",
     "output_type": "stream",
     "text": [
      "Discriminator(\n",
      "  (main): Sequential(\n",
      "    (0): Linear(in_features=1, out_features=45, bias=False)\n",
      "    (1): ReLU(inplace=True)\n",
      "    (2): Linear(in_features=45, out_features=40, bias=False)\n",
      "    (3): ReLU(inplace=True)\n",
      "    (4): Linear(in_features=40, out_features=23, bias=False)\n",
      "    (5): ReLU(inplace=True)\n",
      "    (6): Linear(in_features=23, out_features=1, bias=False)\n",
      "    (7): Sigmoid()\n",
      "  )\n",
      ")\n"
     ]
    }
   ],
   "source": [
    "# Create the Discriminator\n",
    "netD = Discriminator(ngpu).to(device)\n",
    "\n",
    "# Handle multi-GPU if desired\n",
    "if (device.type == 'cuda') and (ngpu > 1):\n",
    "    netD = nn.DataParallel(netD, list(range(ngpu)))\n",
    "\n",
    "# Apply the ``weights_init`` function to randomly initialize all weights\n",
    "# like this: ``to mean=0, stdev=0.2``.\n",
    "netD.apply(weights_init)\n",
    "\n",
    "# Print the model\n",
    "print(netD)"
   ]
  },
  {
   "cell_type": "code",
   "execution_count": 62,
   "metadata": {},
   "outputs": [],
   "source": [
    "# Initialize the ``BCELoss`` function\n",
    "criterion = nn.BCELoss()\n",
    "\n",
    "# Create batch of latent vectors that we will use to visualize\n",
    "#  the progression of the generator\n",
    "fixed_noise = torch.randn(1, nz, device=device)\n",
    "\n",
    "# Establish convention for real and fake labels during training\n",
    "real_label = 1.\n",
    "fake_label = 0.\n",
    "\n",
    "# Setup Adam optimizers for both G and D\n",
    "optimizerD = optim.Adam(netD.parameters(), lr=lr, betas=(beta1, 0.999))\n",
    "optimizerG = optim.Adam(netG.parameters(), lr=lr, betas=(beta1, 0.999))"
   ]
  },
  {
   "cell_type": "code",
   "execution_count": 63,
   "metadata": {},
   "outputs": [
    {
     "name": "stdout",
     "output_type": "stream",
     "text": [
      "Starting Training Loop...\n",
      "[0/40][0/23]\tLoss_D: 1.4106\tLoss_G: 0.6932\tD(x): 0.4880\tD(G(z)): 0.5000 / 0.5000\n",
      "[1/40][0/23]\tLoss_D: 1.2551\tLoss_G: 0.6930\tD(x): 0.5712\tD(G(z)): 0.5001 / 0.5001\n",
      "[2/40][0/23]\tLoss_D: 1.1271\tLoss_G: 0.6902\tD(x): 0.6533\tD(G(z)): 0.5014 / 0.5015\n",
      "[3/40][0/23]\tLoss_D: 1.0599\tLoss_G: 0.6856\tD(x): 0.7105\tD(G(z)): 0.5037 / 0.5038\n",
      "[4/40][0/23]\tLoss_D: 0.9675\tLoss_G: 0.6604\tD(x): 0.7904\tD(G(z)): 0.5165 / 0.5167\n",
      "[5/40][0/23]\tLoss_D: 0.9522\tLoss_G: 0.5998\tD(x): 0.8604\tD(G(z)): 0.5490 / 0.5492\n",
      "[6/40][0/23]\tLoss_D: 1.0070\tLoss_G: 0.5881\tD(x): 0.8297\tD(G(z)): 0.5556 / 0.5558\n",
      "[7/40][0/23]\tLoss_D: 1.1341\tLoss_G: 0.5182\tD(x): 0.8191\tD(G(z)): 0.5962 / 0.5958\n",
      "[8/40][0/23]\tLoss_D: 1.1272\tLoss_G: 0.5056\tD(x): 0.8253\tD(G(z)): 0.6053 / 0.6043\n",
      "[9/40][0/23]\tLoss_D: 1.3256\tLoss_G: 0.4400\tD(x): 0.7590\tD(G(z)): 0.6472 / 0.6449\n",
      "[10/40][0/23]\tLoss_D: 1.3899\tLoss_G: 0.4926\tD(x): 0.6526\tD(G(z)): 0.6145 / 0.6130\n",
      "[11/40][0/23]\tLoss_D: 1.4194\tLoss_G: 0.5130\tD(x): 0.6144\tD(G(z)): 0.6035 / 0.5995\n",
      "[12/40][0/23]\tLoss_D: 1.3856\tLoss_G: 0.6239\tD(x): 0.5405\tD(G(z)): 0.5370 / 0.5359\n",
      "[13/40][0/23]\tLoss_D: 1.3912\tLoss_G: 0.6509\tD(x): 0.5209\tD(G(z)): 0.5221 / 0.5217\n",
      "[14/40][0/23]\tLoss_D: 1.3790\tLoss_G: 0.7205\tD(x): 0.4931\tD(G(z)): 0.4892 / 0.4865\n",
      "[15/40][0/23]\tLoss_D: 1.3869\tLoss_G: 0.7162\tD(x): 0.4870\tD(G(z)): 0.4870 / 0.4886\n",
      "[16/40][0/23]\tLoss_D: 1.3798\tLoss_G: 0.7215\tD(x): 0.4929\tD(G(z)): 0.4895 / 0.4860\n",
      "[17/40][0/23]\tLoss_D: 1.3847\tLoss_G: 0.6699\tD(x): 0.5107\tD(G(z)): 0.5096 / 0.5118\n",
      "[18/40][0/23]\tLoss_D: 1.3929\tLoss_G: 0.6661\tD(x): 0.5118\tD(G(z)): 0.5147 / 0.5137\n",
      "[19/40][0/23]\tLoss_D: 1.3883\tLoss_G: 0.7139\tD(x): 0.4875\tD(G(z)): 0.4881 / 0.4897\n",
      "[20/40][0/23]\tLoss_D: 1.3917\tLoss_G: 0.7115\tD(x): 0.4870\tD(G(z)): 0.4894 / 0.4909\n",
      "[21/40][0/23]\tLoss_D: 1.3862\tLoss_G: 0.7002\tD(x): 0.4986\tD(G(z)): 0.4986 / 0.4965\n",
      "[22/40][0/23]\tLoss_D: 1.3804\tLoss_G: 0.6704\tD(x): 0.5140\tD(G(z)): 0.5107 / 0.5115\n",
      "[23/40][0/23]\tLoss_D: 1.3910\tLoss_G: 0.6613\tD(x): 0.5156\tD(G(z)): 0.5173 / 0.5162\n",
      "[24/40][0/23]\tLoss_D: 1.3876\tLoss_G: 0.6981\tD(x): 0.4962\tD(G(z)): 0.4968 / 0.4975\n",
      "[25/40][0/23]\tLoss_D: 1.3977\tLoss_G: 0.7151\tD(x): 0.4814\tD(G(z)): 0.4865 / 0.4891\n",
      "[26/40][0/23]\tLoss_D: 1.3966\tLoss_G: 0.7204\tD(x): 0.4786\tD(G(z)): 0.4829 / 0.4866\n",
      "[27/40][0/23]\tLoss_D: 1.3813\tLoss_G: 0.6657\tD(x): 0.5148\tD(G(z)): 0.5119 / 0.5140\n",
      "[28/40][0/23]\tLoss_D: 1.3959\tLoss_G: 0.6784\tD(x): 0.5072\tD(G(z)): 0.5117 / 0.5074\n",
      "[29/40][0/23]\tLoss_D: 1.3915\tLoss_G: 0.6765\tD(x): 0.5069\tD(G(z)): 0.5093 / 0.5084\n",
      "[30/40][0/23]\tLoss_D: 1.3855\tLoss_G: 0.7060\tD(x): 0.4956\tD(G(z)): 0.4952 / 0.4936\n",
      "[31/40][0/23]\tLoss_D: 1.3858\tLoss_G: 0.6810\tD(x): 0.5047\tD(G(z)): 0.5044 / 0.5061\n",
      "[32/40][0/23]\tLoss_D: 1.3842\tLoss_G: 0.6713\tD(x): 0.5115\tD(G(z)): 0.5102 / 0.5111\n",
      "[33/40][0/23]\tLoss_D: 1.3805\tLoss_G: 0.6724\tD(x): 0.5115\tD(G(z)): 0.5084 / 0.5105\n",
      "[34/40][0/23]\tLoss_D: 1.3885\tLoss_G: 0.6729\tD(x): 0.5114\tD(G(z)): 0.5122 / 0.5102\n",
      "[35/40][0/23]\tLoss_D: 1.3808\tLoss_G: 0.7242\tD(x): 0.4884\tD(G(z)): 0.4852 / 0.4848\n",
      "[36/40][0/23]\tLoss_D: 1.3865\tLoss_G: 0.6902\tD(x): 0.4996\tD(G(z)): 0.4997 / 0.5015\n",
      "[37/40][0/23]\tLoss_D: 1.3872\tLoss_G: 0.6769\tD(x): 0.5078\tD(G(z)): 0.5081 / 0.5082\n",
      "[38/40][0/23]\tLoss_D: 1.3832\tLoss_G: 0.7342\tD(x): 0.4859\tD(G(z)): 0.4839 / 0.4800\n",
      "[39/40][0/23]\tLoss_D: 1.3909\tLoss_G: 0.7085\tD(x): 0.4895\tD(G(z)): 0.4916 / 0.4924\n"
     ]
    }
   ],
   "source": [
    "# Training Loop\n",
    "\n",
    "# Lists to keep track of progress\n",
    "img_list = []\n",
    "G_losses = []\n",
    "D_losses = []\n",
    "iters = 0\n",
    "\n",
    "print(\"Starting Training Loop...\")\n",
    "# For each epoch\n",
    "for epoch in range(num_epochs):\n",
    "    # For each batch in the dataloader\n",
    "    for i, data in enumerate(dataloader, 0):\n",
    "        \n",
    "        ############################\n",
    "        # (1) Update D network: maximize log(D(x)) + log(1 - D(G(z)))\n",
    "        ###########################\n",
    "        ## Train with all-real batch\n",
    "        netD.zero_grad()\n",
    "        # Format batch\n",
    "        real_cpu = data[0].to(device)\n",
    "        b_size = real_cpu.size(0)\n",
    "        label = torch.full((b_size,), real_label, dtype=torch.float, device=device)\n",
    "        # Forward pass real batch through D\n",
    "        output = netD(real_cpu).view(-1)\n",
    "        # Calculate loss on all-real batch\n",
    "        errD_real = criterion(output, label)\n",
    "        # Calculate gradients for D in backward pass\n",
    "        errD_real.backward()\n",
    "        D_x = output.mean().item()\n",
    "\n",
    "        ## Train with all-fake batch\n",
    "        # Generate batch of latent vectors\n",
    "        noise = torch.randn(b_size, nz, device=device)\n",
    "        # Generate fake image batch with G\n",
    "        fake = netG(noise)\n",
    "        label.fill_(fake_label)\n",
    "        # Classify all fake batch with D\n",
    "        output = netD(fake.detach()).view(-1)\n",
    "        # Calculate D's loss on the all-fake batch\n",
    "        errD_fake = criterion(output, label)\n",
    "        # Calculate the gradients for this batch, accumulated (summed) with previous gradients\n",
    "        errD_fake.backward()\n",
    "        D_G_z1 = output.mean().item()\n",
    "        # Compute error of D as sum over the fake and the real batches\n",
    "        errD = errD_real + errD_fake\n",
    "        # Update D\n",
    "        optimizerD.step()\n",
    "\n",
    "        ############################\n",
    "        # (2) Update G network: maximize log(D(G(z)))\n",
    "        ###########################\n",
    "        netG.zero_grad()\n",
    "        label.fill_(real_label)  # fake labels are real for generator cost\n",
    "        # Since we just updated D, perform another forward pass of all-fake batch through D\n",
    "        output = netD(fake).view(-1)\n",
    "        # Calculate G's loss based on this output\n",
    "        errG = criterion(output, label)\n",
    "        # Calculate gradients for G\n",
    "        errG.backward()\n",
    "        D_G_z2 = output.mean().item()\n",
    "        # Update G\n",
    "        optimizerG.step()\n",
    "\n",
    "        # Output training stats\n",
    "        if i % 50 == 0:\n",
    "            print('[%d/%d][%d/%d]\\tLoss_D: %.4f\\tLoss_G: %.4f\\tD(x): %.4f\\tD(G(z)): %.4f / %.4f'\n",
    "                  % (epoch, num_epochs, i, len(dataloader),\n",
    "                     errD.item(), errG.item(), D_x, D_G_z1, D_G_z2))\n",
    "\n",
    "        # Save Losses for plotting later\n",
    "        G_losses.append(errG.item())\n",
    "        D_losses.append(errD.item())\n",
    "\n",
    "        # Check how the generator is doing by saving G's output on fixed_noise\n",
    "        if (iters % 500 == 0) or ((epoch == num_epochs-1) and (i == len(dataloader)-1)):\n",
    "            with torch.no_grad():\n",
    "                fake = netG(fixed_noise).detach().cpu()\n",
    "            img_list.append(vutils.make_grid(fake, padding=2, normalize=True))\n",
    "\n",
    "        iters += 1"
   ]
  },
  {
   "cell_type": "code",
   "execution_count": 64,
   "metadata": {},
   "outputs": [
    {
     "data": {
      "text/plain": [
       "[<matplotlib.lines.Line2D at 0x24be073fe50>]"
      ]
     },
     "execution_count": 64,
     "metadata": {},
     "output_type": "execute_result"
    },
    {
     "data": {
      "image/png": "[encoded data removed]",
      "text/plain": [
       "<Figure size 640x480 with 1 Axes>"
      ]
     },
     "metadata": {},
     "output_type": "display_data"
    }
   ],
   "source": [
    "plt.plot(G_losses)\n",
    "plt.plot(D_losses)"
   ]
  },
  {
   "cell_type": "markdown",
   "metadata": {},
   "source": [
    "## Test distance de Wasserstein"
   ]
  },
  {
   "cell_type": "code",
   "execution_count": 65,
   "metadata": {},
   "outputs": [],
   "source": [
    "from DWasserstein4D import dWasserstein4D"
   ]
  },
  {
   "cell_type": "code",
   "execution_count": 66,
   "metadata": {},
   "outputs": [],
   "source": [
    "n = 100\n",
    "x = np.random.randn(n, 4)\n",
    "y = np.random.randn(n, 4)"
   ]
  },
  {
   "cell_type": "code",
   "execution_count": 67,
   "metadata": {},
   "outputs": [
    {
     "data": {
      "text/plain": [
       "(0.16638436430931333, 0.16709517270145605, 0.16535811720467636)"
      ]
     },
     "execution_count": 67,
     "metadata": {},
     "output_type": "execute_result"
    }
   ],
   "source": [
    "dWasserstein4D(x, y, 100), dWasserstein4D(x,y,1000), dWasserstein4D(x, y, 10000)"
   ]
  },
  {
   "cell_type": "markdown",
   "metadata": {},
   "source": [
    "## Génération de données"
   ]
  },
  {
   "cell_type": "code",
   "execution_count": 68,
   "metadata": {},
   "outputs": [],
   "source": [
    "data = np.load(\"data/round1.npy\")\n",
    "N = data.shape[0]"
   ]
  },
  {
   "cell_type": "code",
   "execution_count": 69,
   "metadata": {},
   "outputs": [],
   "source": [
    "genData = np.empty((N, 4))\n",
    "for i in range(N):\n",
    "    noise = torch.randn(b_size, nz, device=device)\n",
    "    fake = netG(noise)\n",
    "    genData[i,:] = fake.detach().numpy().T[0]"
   ]
  },
  {
   "cell_type": "code",
   "execution_count": 70,
   "metadata": {},
   "outputs": [
    {
     "data": {
      "text/plain": [
       "2.1407357177046715"
      ]
     },
     "execution_count": 70,
     "metadata": {},
     "output_type": "execute_result"
    }
   ],
   "source": [
    "dWasserstein4D(data, genData, niter = int(1e4))"
   ]
  },
  {
   "cell_type": "code",
   "execution_count": 77,
   "metadata": {},
   "outputs": [
    {
     "data": {
      "text/plain": [
       "<matplotlib.legend.Legend at 0x24be1bfba60>"
      ]
     },
     "execution_count": 77,
     "metadata": {},
     "output_type": "execute_result"
    },
    {
     "data": {
      "image/png": "[encoded data removed]",
      "text/plain": [
       "<Figure size 640x480 with 1 Axes>"
      ]
     },
     "metadata": {},
     "output_type": "display_data"
    }
   ],
   "source": [
    "for i in range(0,2):\n",
    "    plt.plot(np.concatenate((data[:,i], genData[:,i])), alpha = 0.5)\n",
    "    # plt.plot(genData[:,i], alpha = 0.5)\n",
    "plt.axvline(x=1144, color = \"red\", label = \"changement d'ensemble de données\")\n",
    "plt.legend()"
   ]
  },
  {
   "cell_type": "code",
   "execution_count": 72,
   "metadata": {},
   "outputs": [
    {
     "data": {
      "text/plain": [
       "array([[5.04007435, 3.27862263, 6.95373249, 5.62303257],\n",
       "       [2.80199599, 8.79434967, 2.72638083, 5.13038588],\n",
       "       [5.98406553, 1.87779641, 7.28686285, 2.60212302],\n",
       "       ...,\n",
       "       [3.9206357 , 4.05003119, 9.05448246, 2.95375299],\n",
       "       [6.11281538, 3.42013288, 5.47372484, 8.50586891],\n",
       "       [1.63121033, 4.72873211, 5.40875292, 4.71352148]])"
      ]
     },
     "execution_count": 72,
     "metadata": {},
     "output_type": "execute_result"
    }
   ],
   "source": [
    "genData"
   ]
  },
  {
   "cell_type": "code",
   "execution_count": 73,
   "metadata": {},
   "outputs": [],
   "source": [
    "# np.save(\"generated_data/genDataSoline\", genData)"
   ]
  }
 ],
 "metadata": {
  "kernelspec": {
   "display_name": "base",
   "language": "python",
   "name": "python3"
  },
  "language_info": {
   "codemirror_mode": {
    "name": "ipython",
    "version": 3
   },
   "file_extension": ".py",
   "mimetype": "text/x-python",
   "name": "python",
   "nbconvert_exporter": "python",
   "pygments_lexer": "ipython3",
   "version": "3.9.19"
  }
 },
 "nbformat": 4,
 "nbformat_minor": 2
}
